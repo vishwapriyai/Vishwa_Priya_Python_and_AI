{
 "cells": [
  {
   "cell_type": "code",
   "execution_count": 1,
   "metadata": {},
   "outputs": [
    {
     "name": "stdout",
     "output_type": "stream",
     "text": [
      "Choose an option:\n",
      "1. Add book\n",
      "2. Search by title\n",
      "3. Search by author\n",
      "4. Search by ISBN\n",
      "5. Quit\n"
     ]
    },
    {
     "name": "stdin",
     "output_type": "stream",
     "text": [
      "Enter your choice:  1\n",
      "enter the title of the book To Kill a Mockingbird\n",
      "enter the author of the book Harper Lee\n",
      "enter the isbn number of the book 9780061120084\n"
     ]
    },
    {
     "name": "stdout",
     "output_type": "stream",
     "text": [
      "book sucessfully added\n",
      "Choose an option:\n",
      "1. Add book\n",
      "2. Search by title\n",
      "3. Search by author\n",
      "4. Search by ISBN\n",
      "5. Quit\n"
     ]
    },
    {
     "name": "stdin",
     "output_type": "stream",
     "text": [
      "Enter your choice:  1\n",
      "enter the title of the book 1984\n",
      "enter the author of the book George Orwell\n",
      "enter the isbn number of the book 9780452284234\n"
     ]
    },
    {
     "name": "stdout",
     "output_type": "stream",
     "text": [
      "book sucessfully added\n",
      "Choose an option:\n",
      "1. Add book\n",
      "2. Search by title\n",
      "3. Search by author\n",
      "4. Search by ISBN\n",
      "5. Quit\n"
     ]
    },
    {
     "name": "stdin",
     "output_type": "stream",
     "text": [
      "Enter your choice:  1\n",
      "enter the title of the book Pride and Prejudice\n",
      "enter the author of the book Jane Austen\n",
      "enter the isbn number of the book 9780141439518\n"
     ]
    },
    {
     "name": "stdout",
     "output_type": "stream",
     "text": [
      "book sucessfully added\n",
      "Choose an option:\n",
      "1. Add book\n",
      "2. Search by title\n",
      "3. Search by author\n",
      "4. Search by ISBN\n",
      "5. Quit\n"
     ]
    },
    {
     "name": "stdin",
     "output_type": "stream",
     "text": [
      "Enter your choice:  2\n",
      "enter the title of the book to search Pride and Prejudice\n"
     ]
    },
    {
     "name": "stdout",
     "output_type": "stream",
     "text": [
      "Title: Pride and Prejudice, Author: Jane Austen, ISBN: 9780141439518\n",
      "Choose an option:\n",
      "1. Add book\n",
      "2. Search by title\n",
      "3. Search by author\n",
      "4. Search by ISBN\n",
      "5. Quit\n"
     ]
    },
    {
     "name": "stdin",
     "output_type": "stream",
     "text": [
      "Enter your choice:  3\n",
      "Enter the author(s) of the book to search, separated by commas:  Harper Lee\n"
     ]
    },
    {
     "name": "stdout",
     "output_type": "stream",
     "text": [
      "Title: To Kill a Mockingbird, Author: Harper Lee, ISBN: 9780061120084\n",
      "Choose an option:\n",
      "1. Add book\n",
      "2. Search by title\n",
      "3. Search by author\n",
      "4. Search by ISBN\n",
      "5. Quit\n"
     ]
    },
    {
     "name": "stdin",
     "output_type": "stream",
     "text": [
      "Enter your choice:  4\n",
      "enter the isbn number of the book to search 9780452284234\n"
     ]
    },
    {
     "name": "stdout",
     "output_type": "stream",
     "text": [
      "Title: 1984, Author: George Orwell, ISBN: 9780452284234\n",
      "Choose an option:\n",
      "1. Add book\n",
      "2. Search by title\n",
      "3. Search by author\n",
      "4. Search by ISBN\n",
      "5. Quit\n"
     ]
    },
    {
     "name": "stdin",
     "output_type": "stream",
     "text": [
      "Enter your choice:  5\n"
     ]
    }
   ],
   "source": [
    "class Book():\n",
    "    def __init__(self, title, author, isbn):\n",
    "        self.title = title\n",
    "        self.author = author\n",
    "        self.isbn=isbn\n",
    "\n",
    "        if len(isbn)!=13 :\n",
    "            print(\"enter a isbn number in 13 digits\")\n",
    "        if len(author)<1:\n",
    "            print(\"enter atleast one author\")\n",
    "        \n",
    "class Library():\n",
    "    def __init__(self):\n",
    "        self.books=[]\n",
    "\n",
    "    def add_book(self):\n",
    "        title=input(\"enter the title of the book\")\n",
    "        author=input(\"enter the author of the book\").split(',')\n",
    "        isbn=input(\"enter the isbn number of the book\")\n",
    "        book=Book(title,author,isbn)\n",
    "        self.books.append(book)\n",
    "        print(\"book sucessfully added\")\n",
    "    \n",
    "    def search_by_title(self):\n",
    "        title = input(\"enter the title of the book to search\").lower()\n",
    "        search_book = [book for book in self.books if book.title.lower() == title]\n",
    "        if search_book:\n",
    "            for book in search_book:\n",
    "                print(f\"Title: {book.title}, Author: {', '.join(book.author)}, ISBN: {book.isbn}\")\n",
    "        else:\n",
    "            print(\"No matching book found.\")\n",
    "            \n",
    "    def search_by_author(self):\n",
    "        input_authors = input(\"Enter the author(s) of the book to search, separated by commas: \").split(',')\n",
    "        authors = [author.strip().lower() for author in input_authors]  # convert to lowercase\n",
    "        search_book = [book for book in self.books if any(author.lower() in [a.lower() for a in book.author] for author in authors)]\n",
    "        if search_book:\n",
    "            for book in search_book:\n",
    "                print(f\"Title: {book.title}, Author: {', '.join(book.author)}, ISBN: {book.isbn}\")\n",
    "        else:\n",
    "            print(\"No matching book found.\")\n",
    "\n",
    "    def search_by_isbn(self):\n",
    "        isbn=input(\"enter the isbn number of the book to search\")\n",
    "        search_book=[book for book in self.books if book.isbn==isbn]\n",
    "        if search_book:\n",
    "            for book in search_book:\n",
    "                print(f\"Title: {book.title}, Author: {', '.join(book.author)}, ISBN: {book.isbn}\")\n",
    "        else:\n",
    "            print(\"No matching book found.\")\n",
    "\n",
    "\n",
    "library = Library()\n",
    "while True:\n",
    "    print(\"Choose an option:\")\n",
    "    print(\"1. Add book\")\n",
    "    print(\"2. Search by title\")\n",
    "    print(\"3. Search by author\")\n",
    "    print(\"4. Search by ISBN\")\n",
    "    print(\"5. Quit\")\n",
    "    \n",
    "    val1 = input(\"Enter your choice: \")\n",
    "    \n",
    "    if val1 == \"1\":\n",
    "        library.add_book()\n",
    "    elif val1 == \"2\":\n",
    "        library.search_by_title()\n",
    "    elif val1 == \"3\":\n",
    "        library.search_by_author()\n",
    "    elif val1 == \"4\":\n",
    "        library.search_by_isbn()\n",
    "    elif val1 == \"5\":\n",
    "        break\n",
    "    else:\n",
    "        print(\"Invalid option. Please try again.\")\n"
   ]
  },
  {
   "cell_type": "code",
   "execution_count": null,
   "metadata": {},
   "outputs": [],
   "source": []
  }
 ],
 "metadata": {
  "kernelspec": {
   "display_name": "Python 3 (ipykernel)",
   "language": "python",
   "name": "python3"
  },
  "language_info": {
   "codemirror_mode": {
    "name": "ipython",
    "version": 3
   },
   "file_extension": ".py",
   "mimetype": "text/x-python",
   "name": "python",
   "nbconvert_exporter": "python",
   "pygments_lexer": "ipython3",
   "version": "3.12.3"
  }
 },
 "nbformat": 4,
 "nbformat_minor": 4
}
