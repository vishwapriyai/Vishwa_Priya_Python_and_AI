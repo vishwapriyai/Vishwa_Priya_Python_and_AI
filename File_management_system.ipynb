{
 "cells": [
  {
   "cell_type": "markdown",
   "metadata": {},
   "source": [
    "# File Management System"
   ]
  },
  {
   "cell_type": "code",
   "execution_count": 4,
   "metadata": {},
   "outputs": [
    {
     "name": "stdout",
     "output_type": "stream",
     "text": [
      "['vish.txt']\n",
      "I am Vishwa Priya Indirakumar,I am a final year student\n"
     ]
    }
   ],
   "source": [
    "import os\n",
    "sample=input('enter 1 to write,2 to read,3 to append')\n",
    "if sample=='1':\n",
    "    allfile=os.listdir()\n",
    "    while True:\n",
    "        print([x for x in allfile if x.endswith('.txt')])\n",
    "        fname=input('enter file name')\n",
    "        if fname in allfile:\n",
    "            print(\"file already exists\")\n",
    "        else:\n",
    "            data =input(\"enter data to write\")\n",
    "            file=open(fname,'w')\n",
    "            file.write(data)\n",
    "            file.close()\n",
    "            break\n",
    "elif sample=='2':\n",
    "    allfile=os.listdir()\n",
    "    while True:\n",
    "        print([x for x in allfile if x.endswith('.txt')])\n",
    "        fname=input('enter file name')\n",
    "        if fname in allfile:\n",
    "            file=open(fname,'r')\n",
    "            print(file.read())\n",
    "            break\n",
    "        else:\n",
    "            print(\"No such file exists\")\n",
    "elif sample=='3':\n",
    "    allfile=os.listdir()\n",
    "    while True:\n",
    "        print([x for x in allfile if x.endswith('.txt')])\n",
    "        fname=input('enter file name')\n",
    "        if fname in allfile:\n",
    "            data =input(\"enter data to write\")\n",
    "            file=open(fname,'a')\n",
    "            file.write(data)\n",
    "            file.close()\n",
    "            break\n",
    "        else:\n",
    "            print(\"no such file exist\")"
   ]
  },
  {
   "cell_type": "code",
   "execution_count": null,
   "metadata": {},
   "outputs": [],
   "source": []
  }
 ],
 "metadata": {
  "kernelspec": {
   "display_name": "Python 3",
   "language": "python",
   "name": "python3"
  },
  "language_info": {
   "codemirror_mode": {
    "name": "ipython",
    "version": 3
   },
   "file_extension": ".py",
   "mimetype": "text/x-python",
   "name": "python",
   "nbconvert_exporter": "python",
   "pygments_lexer": "ipython3",
   "version": "3.12.3"
  }
 },
 "nbformat": 4,
 "nbformat_minor": 2
}
