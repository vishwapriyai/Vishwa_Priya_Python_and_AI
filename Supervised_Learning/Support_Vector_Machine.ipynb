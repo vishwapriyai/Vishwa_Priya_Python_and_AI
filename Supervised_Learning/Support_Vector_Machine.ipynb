{
 "cells": [
  {
   "cell_type": "code",
   "execution_count": null,
   "id": "f3c35ab0-0d71-47eb-be3a-15754d4fb0d1",
   "metadata": {},
   "outputs": [],
   "source": [
    "import pandas as pd\n",
    "import numpy as np\n",
    "import matplotlib.pyplot as plt\n"
   ]
  },
  {
   "cell_type": "code",
   "execution_count": null,
   "id": "b1984c82-746c-40da-a533-689f54bd5f6a",
   "metadata": {},
   "outputs": [],
   "source": [
    "data=pd.read_csv('dataset/User_Data.csv')"
   ]
  },
  {
   "cell_type": "code",
   "execution_count": null,
   "id": "5e7548fb-504f-41cb-a663-6f5e9b79ab96",
   "metadata": {},
   "outputs": [],
   "source": [
    "data"
   ]
  },
  {
   "cell_type": "code",
   "execution_count": null,
   "id": "f3d9426a-f9dc-40ee-bf31-42e40ae4b969",
   "metadata": {},
   "outputs": [],
   "source": [
    "# PREPROCESSING\n",
    "\n",
    "# map will replace the value based on column index\n",
    "data['Gender']=data['Gender'].map({'Male':0,'Female':1,}).astype(float)\n",
    "data"
   ]
  },
  {
   "cell_type": "code",
   "execution_count": null,
   "id": "4b411c30-46d0-4b35-a587-7d3bb07e0cd8",
   "metadata": {},
   "outputs": [],
   "source": [
    "x=data.iloc[:,[2,3]]\n",
    "print(x)\n",
    "y=data.iloc[:,4]\n",
    "y"
   ]
  },
  {
   "cell_type": "code",
   "execution_count": null,
   "id": "30e0bb19-f5e0-46ef-8b66-e120f552e38a",
   "metadata": {},
   "outputs": [],
   "source": [
    "\n",
    "#print the values in that location\n",
    "# :--- print all the values in the rows\n",
    "\n",
    "x=data.iloc[:,[2,3]].values\n",
    "y=data.iloc[:,4].values"
   ]
  },
  {
   "cell_type": "code",
   "execution_count": null,
   "id": "9fd558e3-7010-4df2-b1f8-9937b4fed976",
   "metadata": {},
   "outputs": [],
   "source": [
    "x"
   ]
  },
  {
   "cell_type": "code",
   "execution_count": null,
   "id": "abb0a8e2-c7fa-4804-865c-f1e398facb4d",
   "metadata": {},
   "outputs": [],
   "source": [
    "y"
   ]
  },
  {
   "cell_type": "code",
   "execution_count": null,
   "id": "c3bdbae2-8df2-4276-a8cf-5cd26e825a10",
   "metadata": {},
   "outputs": [],
   "source": [
    "from sklearn.model_selection import train_test_split"
   ]
  },
  {
   "cell_type": "code",
   "execution_count": null,
   "id": "85f5e468-4225-4f4f-966f-d11b4172e154",
   "metadata": {},
   "outputs": [],
   "source": [
    "xtrain,xtest,ytrain,ytest=train_test_split(x,y,test_size=0.25)\n",
    "\n",
    "#0.25--indicates the percentage of the data that should be held over for testing."
   ]
  },
  {
   "cell_type": "code",
   "execution_count": null,
   "id": "238ec11b-c0ad-4654-bddd-67d04f709a13",
   "metadata": {},
   "outputs": [],
   "source": [
    "# if we run the model without standrad scaler then the accuracy will be low\n",
    "# standard scaler will work only on numeric data\n",
    "\n",
    "from sklearn.preprocessing import StandardScaler\n",
    "sc_x=StandardScaler()\n",
    "xtrain=sc_x.fit_transform(xtrain)\n",
    "xtest=sc_x.transform(xtest)\n",
    "\n",
    "print(xtrain[0:10,:])\n",
    "print(xtest[0:10,:])"
   ]
  },
  {
   "cell_type": "code",
   "execution_count": null,
   "id": "0813f16e-8138-4db0-858f-78a18ac2b2e9",
   "metadata": {},
   "outputs": [],
   "source": [
    "#support vector classifier\n",
    "\n",
    "from sklearn.svm import SVC\n",
    "classifier=SVC(random_state=0)\n",
    "classifier.fit(xtrain,ytrain)"
   ]
  },
  {
   "cell_type": "code",
   "execution_count": null,
   "id": "c66a1dbf-f30f-48c3-9fdf-3bdbe98cd155",
   "metadata": {},
   "outputs": [],
   "source": [
    "# to save the file of the model\n",
    "\n",
    "# pickle used to store and read the binary data or files\n",
    "#store--dumb\n",
    "#read--load\n",
    "\n",
    "import pickle\n",
    "with open('logistic_model.pkl','wb') as file: # wb--write binary\n",
    "    pickle.dump(classifier,file)\n",
    "with open('logistic_model.pkl', 'rb') as f:\n",
    "    classifier=pickle.load(f)\n",
    "    "
   ]
  },
  {
   "cell_type": "code",
   "execution_count": null,
   "id": "194bc8a9-411d-43de-9fa8-925b5ee4e28d",
   "metadata": {},
   "outputs": [],
   "source": [
    "from sklearn.metrics import confusion_matrix\n",
    "cm= confusion_matrix(ytest,y_pred)\n",
    "print(\"confusion matrix:\\n\",cm)\n",
    "\n",
    "from sklearn.metrics import accuracy_score\n",
    "print(\"acuracy:\",accuracy_score(ytest,y_pred))\n",
    "\n",
    "from sklearn.metrics import precision_score\n",
    "print(\"precision:\",precision_score(ytest,y_pred))"
   ]
  }
 ],
 "metadata": {
  "kernelspec": {
   "display_name": "Python 3 (ipykernel)",
   "language": "python",
   "name": "python3"
  },
  "language_info": {
   "codemirror_mode": {
    "name": "ipython",
    "version": 3
   },
   "file_extension": ".py",
   "mimetype": "text/x-python",
   "name": "python",
   "nbconvert_exporter": "python",
   "pygments_lexer": "ipython3",
   "version": "3.11.9"
  }
 },
 "nbformat": 4,
 "nbformat_minor": 5
}
