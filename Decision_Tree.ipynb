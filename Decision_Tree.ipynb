{
 "cells": [
  {
   "cell_type": "code",
   "execution_count": null,
   "id": "0cadc648-9908-4478-84c8-476c21b95e00",
   "metadata": {},
   "outputs": [],
   "source": [
    "# DECISION TREE\n",
    "\n",
    "# load libraries\n",
    "\n",
    "import pandas as pd\n",
    "from sklearn.tree import DecisionTreeClassifier\n",
    "from sklearn.model_selection import train_test_split\n",
    "from sklearn import metrics # accuray calculatare"
   ]
  },
  {
   "cell_type": "code",
   "execution_count": null,
   "id": "0303717e-09d8-48a5-b183-b80c95cb8aff",
   "metadata": {},
   "outputs": [],
   "source": [
    "col_names=['pregnant','glucose','bp','skin','insulin','bmi','pedigree','age','label']"
   ]
  },
  {
   "cell_type": "code",
   "execution_count": null,
   "id": "3322a6ac-826b-47a7-9cc7-7a12940aabb0",
   "metadata": {},
   "outputs": [],
   "source": [
    "# load dataset\n",
    "pima=pd.read_csv(\"dataset/pima-indians-diabetes.csv\",header=None,names=col_names)\n",
    "pima.head()"
   ]
  },
  {
   "cell_type": "code",
   "execution_count": null,
   "id": "8658944c-6d1f-4fd4-834c-c0655e0c14ac",
   "metadata": {},
   "outputs": [],
   "source": [
    "features_cols=['pregnant','insulin','bmi','age','glucose','bp','pedigree']\n",
    "x=pima[features_cols]#Features\n",
    "y=pima.label # target variable\n",
    "x_train,x_test,y_train,y_test= train_test_split(x,y,test_size=0.3,random_state=1) #70% train 30% test data"
   ]
  },
  {
   "cell_type": "code",
   "execution_count": null,
   "id": "64d2826a-8f3c-4b97-a222-478648b0e88c",
   "metadata": {},
   "outputs": [],
   "source": [
    "clf=DecisionTreeClassifier()\n",
    "clf=clf.fit(x_train,y_train)\n",
    "y_pred=clf.predict(x_test)\n",
    "print('accuracy:',metrics.accuracy_score(y_test,y_pred))"
   ]
  },
  {
   "cell_type": "code",
   "execution_count": null,
   "id": "bf12ed5f-f496-4c2b-a648-5a687ebf9fdf",
   "metadata": {},
   "outputs": [],
   "source": [
    "clf=DecisionTreeClassifier(criterion='entropy', max_depth=3)\n",
    "clf=clf.fit(x_train,y_train)\n",
    "y_pred=clf.predict(x_test)\n",
    "print('accuracy:',metrics.accuracy_score(y_test,y_pred))"
   ]
  }
 ],
 "metadata": {
  "kernelspec": {
   "display_name": "Python 3 (ipykernel)",
   "language": "python",
   "name": "python3"
  },
  "language_info": {
   "codemirror_mode": {
    "name": "ipython",
    "version": 3
   },
   "file_extension": ".py",
   "mimetype": "text/x-python",
   "name": "python",
   "nbconvert_exporter": "python",
   "pygments_lexer": "ipython3",
   "version": "3.11.9"
  }
 },
 "nbformat": 4,
 "nbformat_minor": 5
}
